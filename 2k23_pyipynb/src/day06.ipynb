{
 "cells": [
  {
   "cell_type": "markdown",
   "metadata": {},
   "source": [
    "--- Day 6: Wait For It ---\n",
    "\n",
    "The ferry quickly brings you across Island Island. After asking around, you discover that there is indeed normally a large pile of sand somewhere near here, but you don't see anything besides lots of water and the small island where the ferry has docked.\n",
    "\n",
    "As you try to figure out what to do next, you notice a poster on a wall near the ferry dock. \"Boat races! Open to the public! Grand prize is an all-expenses-paid trip to Desert Island!\" That must be where the sand comes from! Best of all, the boat races are starting in just a few minutes.\n",
    "\n",
    "You manage to sign up as a competitor in the boat races just in time. The organizer explains that it's not really a traditional race - instead, you will get a fixed amount of time during which your boat has to travel as far as it can, and you win if your boat goes the farthest.\n",
    "\n",
    "As part of signing up, you get a sheet of paper (your puzzle input) that lists the time allowed for each race and also the best distance ever recorded in that race. To guarantee you win the grand prize, you need to make sure you go farther in each race than the current record holder.\n",
    "\n",
    "The organizer brings you over to the area where the boat races are held. The boats are much smaller than you expected - they're actually toy boats, each with a big button on top. Holding down the button charges the boat, and releasing the button allows the boat to move. Boats move faster if their button was held longer, but time spent holding the button counts against the total race time. You can only hold the button at the start of the race, and boats don't move until the button is released.\n",
    "\n",
    "For example:\n",
    "\n",
    "Time:      7  15   30\n",
    "Distance:  9  40  200\n",
    "\n",
    "This document describes three races:\n",
    "\n",
    "    The first race lasts 7 milliseconds. The record distance in this race is 9 millimeters.\n",
    "    The second race lasts 15 milliseconds. The record distance in this race is 40 millimeters.\n",
    "    The third race lasts 30 milliseconds. The record distance in this race is 200 millimeters.\n",
    "\n",
    "Your toy boat has a starting speed of zero millimeters per millisecond. For each whole millisecond you spend at the beginning of the race holding down the button, the boat's speed increases by one millimeter per millisecond.\n",
    "\n",
    "So, because the first race lasts 7 milliseconds, you only have a few options:\n",
    "\n",
    "    Don't hold the button at all (that is, hold it for 0 milliseconds) at the start of the race. The boat won't move; it will have traveled 0 millimeters by the end of the race.\n",
    "    Hold the button for 1 millisecond at the start of the race. Then, the boat will travel at a speed of 1 millimeter per millisecond for 6 milliseconds, reaching a total distance traveled of 6 millimeters.\n",
    "    Hold the button for 2 milliseconds, giving the boat a speed of 2 millimeters per millisecond. It will then get 5 milliseconds to move, reaching a total distance of 10 millimeters.\n",
    "    Hold the button for 3 milliseconds. After its remaining 4 milliseconds of travel time, the boat will have gone 12 millimeters.\n",
    "    Hold the button for 4 milliseconds. After its remaining 3 milliseconds of travel time, the boat will have gone 12 millimeters.\n",
    "    Hold the button for 5 milliseconds, causing the boat to travel a total of 10 millimeters.\n",
    "    Hold the button for 6 milliseconds, causing the boat to travel a total of 6 millimeters.\n",
    "    Hold the button for 7 milliseconds. That's the entire duration of the race. You never let go of the button. The boat can't move until you let go of the button. Please make sure you let go of the button so the boat gets to move. 0 millimeters.\n",
    "\n",
    "Since the current record for this race is 9 millimeters, there are actually 4 different ways you could win: you could hold the button for 2, 3, 4, or 5 milliseconds at the start of the race.\n",
    "\n",
    "In the second race, you could hold the button for at least 4 milliseconds and at most 11 milliseconds and beat the record, a total of 8 different ways to win.\n",
    "\n",
    "In the third race, you could hold the button for at least 11 milliseconds and no more than 19 milliseconds and still beat the record, a total of 9 ways you could win.\n",
    "\n",
    "To see how much margin of error you have, determine the number of ways you can beat the record in each race; in this example, if you multiply these values together, you get 288 (4 * 8 * 9).\n",
    "\n",
    "Determine the number of ways you could beat the record in each race. What do you get if you multiply these numbers together?\n"
   ]
  },
  {
   "cell_type": "code",
   "execution_count": 60,
   "metadata": {},
   "outputs": [],
   "source": [
    "import numpy as np\n",
    "import math"
   ]
  },
  {
   "cell_type": "code",
   "execution_count": 18,
   "metadata": {},
   "outputs": [
    {
     "name": "stdout",
     "output_type": "stream",
     "text": [
      "['Time:        57     72     69     92', 'Distance:   291   1172   1176   2026'] \n",
      "\n",
      " ['Time:      7  15   30', 'Distance:  9  40  200']\n"
     ]
    }
   ],
   "source": [
    "\n",
    "file_path = 'C:\\\\Users\\\\CSILLER\\\\code\\\\aoc\\\\2k23_pyipynb\\\\input\\\\day06.txt'\n",
    "file_path_sample = 'C:\\\\Users\\\\CSILLER\\\\code\\\\aoc\\\\2k23_pyipynb\\\\input\\\\day06_sample.txt'\n",
    "# data_np = np.loadtxt(file_path, dtype=str)\n",
    "with open(file_path,'r',encoding='utf-8') as f:\n",
    "    data = [line.strip() for line in f.readlines()]\n",
    "with open(file_path_sample,'r',encoding='utf-8') as f:\n",
    "    sample_input = [line.strip() for line in f.readlines()]\n",
    "print(data , '\\n\\n' , sample_input)"
   ]
  },
  {
   "cell_type": "code",
   "execution_count": 21,
   "metadata": {},
   "outputs": [
    {
     "name": "stdout",
     "output_type": "stream",
     "text": [
      "[['Time:', '57', '72', '69', '92'], ['Distance:', '291', '1172', '1176', '2026']] \n",
      "\n",
      " [['Time:', '7', '15', '30'], ['Distance:', '9', '40', '200']]\n"
     ]
    }
   ],
   "source": [
    "data_vals = [list(filter(None,line.split(' '))) for line in data]\n",
    "sample_vals = [list(filter(None,line.split(' '))) for line in sample_input]\n",
    "print(data_vals, '\\n\\n', sample_vals)"
   ]
  },
  {
   "cell_type": "code",
   "execution_count": 37,
   "metadata": {},
   "outputs": [
    {
     "name": "stdout",
     "output_type": "stream",
     "text": [
      "[(57, 291), (72, 1172), (69, 1176), (92, 2026)] \n",
      "\n",
      " [(7, 9), (15, 40), (30, 200)]\n"
     ]
    }
   ],
   "source": [
    "data_tuples = list(zip(*data_vals))[1:]\n",
    "data_tuples = [(int(value[0]), int(value[1])) for value in data_tuples]\n",
    "sample_tuples = list(zip(*sample_vals))[1:]\n",
    "sample_tuples = [(int(value[0]), int(value[1])) for value in sample_tuples]\n",
    "print(data_tuples, '\\n\\n', sample_tuples)"
   ]
  },
  {
   "cell_type": "code",
   "execution_count": 65,
   "metadata": {},
   "outputs": [
    {
     "name": "stdout",
     "output_type": "stream",
     "text": [
      "288\n",
      "160816\n"
     ]
    }
   ],
   "source": [
    "def solve(data):\n",
    "    beatlis = []\n",
    "    for tuple in data:\n",
    "        beatcount = 0\n",
    "        \n",
    "        # print('___')\n",
    "        for i in range(tuple[0]+1):\n",
    "            dist = (i*0+(tuple[0]-i)*i)\n",
    "            if dist > tuple[1]:\n",
    "                # print(dist,i)\n",
    "                beatcount += 1\n",
    "        # print(beatcount)\n",
    "        beatlis.append(beatcount)\n",
    "    # beatcountmult *= beatcount\n",
    "    # print(beatlis)\n",
    "    print(math.prod(beatlis))\n",
    "    #     if dist < tuple[1]:\n",
    "    #         res.append(dist)\n",
    "    # print(res)\n",
    "        # print(tuple[0],i,(tuple[0]-i),dist)\n",
    "solve(sample_tuples)\n",
    "solve(data_tuples)"
   ]
  },
  {
   "cell_type": "code",
   "execution_count": 80,
   "metadata": {},
   "outputs": [
    {
     "name": "stdout",
     "output_type": "stream",
     "text": [
      "['Time:        57     72     69     92', 'Distance:   291   1172   1176   2026']\n",
      "57726992\n"
     ]
    }
   ],
   "source": [
    "print(data)\n",
    "time_values = int(''.join(map(str,[int(value) for value in data[0].split() if value.isdigit()]))) #spin this forward and you get the numbers out of the array but cba.\n",
    "print(time_values)"
   ]
  },
  {
   "cell_type": "code",
   "execution_count": 74,
   "metadata": {},
   "outputs": [
    {
     "name": "stdout",
     "output_type": "stream",
     "text": [
      "46561107\n"
     ]
    }
   ],
   "source": [
    "# print(data,sample_input)\n",
    "new_data= (57726992,291117211762026)\n",
    "new_sample= (71530,940200)\n",
    "\n",
    "\n",
    "\n",
    "def solvep2(data):\n",
    "    beatlis = []\n",
    "    \n",
    "    beatcount = 0    # print('___')\n",
    "    for i in range(data[0]+1):\n",
    "        dist = (i*0+(data[0]-i)*i)\n",
    "        if dist > data[1]:\n",
    "            # print(dist,i)\n",
    "            beatcount += 1\n",
    "    # print(beatcount)\n",
    "    beatlis.append(beatcount)\n",
    "    # beatcountmult *= beatcount\n",
    "    # print(beatlis)\n",
    "    print(math.prod(beatlis))\n",
    "\n",
    "solvep2(new_data)\n",
    "\n",
    "\n",
    "\n",
    "# dirty but worky"
   ]
  }
 ],
 "metadata": {
  "kernelspec": {
   "display_name": "Python 3",
   "language": "python",
   "name": "python3"
  },
  "language_info": {
   "codemirror_mode": {
    "name": "ipython",
    "version": 3
   },
   "file_extension": ".py",
   "mimetype": "text/x-python",
   "name": "python",
   "nbconvert_exporter": "python",
   "pygments_lexer": "ipython3",
   "version": "3.12.0"
  }
 },
 "nbformat": 4,
 "nbformat_minor": 2
}
